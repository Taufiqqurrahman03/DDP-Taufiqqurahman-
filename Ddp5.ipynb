{
  "nbformat": 4,
  "nbformat_minor": 0,
  "metadata": {
    "colab": {
      "provenance": [],
      "authorship_tag": "ABX9TyPg/b9r7ng3H00G98Qe+mG8",
      "include_colab_link": true
    },
    "kernelspec": {
      "name": "python3",
      "display_name": "Python 3"
    },
    "language_info": {
      "name": "python"
    }
  },
  "cells": [
    {
      "cell_type": "markdown",
      "metadata": {
        "id": "view-in-github",
        "colab_type": "text"
      },
      "source": [
        "<a href=\"https://colab.research.google.com/github/Taufiqqurrahman03/DDP-Taufiqqurahman-/blob/main/Ddp5.ipynb\" target=\"_parent\"><img src=\"https://colab.research.google.com/assets/colab-badge.svg\" alt=\"Open In Colab\"/></a>"
      ]
    },
    {
      "cell_type": "code",
      "execution_count": null,
      "metadata": {
        "colab": {
          "base_uri": "https://localhost:8080/"
        },
        "id": "IpGN9f2aYkam",
        "outputId": "435bd02a-8b29-4db1-8d70-c64fa38c1cfb"
      },
      "outputs": [
        {
          "output_type": "stream",
          "name": "stdout",
          "text": [
            "Masukan pilihan:\n",
            "1. Menghitung luas persegi\n",
            "2. Menghitung luas lingkaran\n",
            "3. Menghitung luas segitiga\n",
            "4\n",
            "Pilihan tidak valid.\n"
          ]
        }
      ],
      "source": [
        "angka_pilihan = int(input(\"\"\"Masukan pilihan:\n",
        "1. Menghitung luas persegi\n",
        "2. Menghitung luas lingkaran\n",
        "3. Menghitung luas segitiga\n",
        "\"\"\"))\n",
        "\n",
        "match angka_pilihan:\n",
        "    case 1:\n",
        "        print(\"Menghitung luas persegi\")\n",
        "        sisi = int(input(\"Masukan nilai sisi: \"))\n",
        "        luas_persegi = sisi ** 2\n",
        "        print(f\"Luas persegi dengan sisi {sisi} cm adalah {luas_persegi} cm^2\")\n",
        "\n",
        "    case 2:\n",
        "        print(\"Menghitung luas lingkaran\")\n",
        "        jari_jari = float(input(\"Masukan nilai jari-jari: \"))\n",
        "        luas_lingkaran = 3.14159 * jari_jari ** 2\n",
        "        print(f\"Luas lingkaran dengan jari-jari {jari_jari} cm adalah {luas_lingkaran:.2f} cm^2\")\n",
        "\n",
        "    case 3:\n",
        "        print(\"Menghitung luas segitiga\")\n",
        "        alas = float(input(\"Masukan nilai alas: \"))\n",
        "        tinggi = float(input(\"Masukan nilai tinggi: \"))\n",
        "        luas_segitiga = 0.5 * alas * tinggi\n",
        "        print(f\"Luas segitiga dengan alas {alas} cm dan tinggi {tinggi} cm adalah {luas_segitiga:.2f} cm^2\")\n",
        "\n",
        "    case _:\n",
        "        print(\"Pilihan tidak valid.\")"
      ]
    }
  ]
}